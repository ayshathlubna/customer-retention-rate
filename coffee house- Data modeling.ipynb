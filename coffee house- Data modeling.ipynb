{
 "cells": [
  {
   "cell_type": "markdown",
   "id": "c14b1f89",
   "metadata": {},
   "source": [
    "## Data Modeling"
   ]
  },
  {
   "cell_type": "code",
   "execution_count": 1,
   "id": "cb009b81",
   "metadata": {},
   "outputs": [],
   "source": [
    "import numpy as np\n",
    "import pandas as pd\n",
    "import matplotlib.pyplot as plt \n",
    "\n",
    "import warnings\n",
    "warnings.filterwarnings('ignore')"
   ]
  },
  {
   "cell_type": "code",
   "execution_count": 2,
   "id": "6c42ec1c",
   "metadata": {},
   "outputs": [
    {
     "data": {
      "text/html": [
       "<div>\n",
       "<style scoped>\n",
       "    .dataframe tbody tr th:only-of-type {\n",
       "        vertical-align: middle;\n",
       "    }\n",
       "\n",
       "    .dataframe tbody tr th {\n",
       "        vertical-align: top;\n",
       "    }\n",
       "\n",
       "    .dataframe thead th {\n",
       "        text-align: right;\n",
       "    }\n",
       "</style>\n",
       "<table border=\"1\" class=\"dataframe\">\n",
       "  <thead>\n",
       "    <tr style=\"text-align: right;\">\n",
       "      <th></th>\n",
       "      <th>gender</th>\n",
       "      <th>age</th>\n",
       "      <th>customer_type</th>\n",
       "      <th>annual_income</th>\n",
       "      <th>visits</th>\n",
       "      <th>drink_preference</th>\n",
       "      <th>time_spend</th>\n",
       "      <th>nearest_outlet</th>\n",
       "      <th>membership</th>\n",
       "      <th>most_bought</th>\n",
       "      <th>spend_per_visit</th>\n",
       "      <th>quality_rating</th>\n",
       "      <th>price_rating</th>\n",
       "      <th>promotion_rating</th>\n",
       "      <th>ambience_rating</th>\n",
       "      <th>wifi_rating</th>\n",
       "      <th>service_rating</th>\n",
       "      <th>prefer_coffee_house</th>\n",
       "      <th>promotion_updates</th>\n",
       "      <th>loyalty</th>\n",
       "    </tr>\n",
       "  </thead>\n",
       "  <tbody>\n",
       "    <tr>\n",
       "      <th>0</th>\n",
       "      <td>Female</td>\n",
       "      <td>20-29</td>\n",
       "      <td>Student</td>\n",
       "      <td>&lt; 25000 RM</td>\n",
       "      <td>Rarely</td>\n",
       "      <td>Dine in</td>\n",
       "      <td>30 m - 1 hr</td>\n",
       "      <td>within 1km</td>\n",
       "      <td>True</td>\n",
       "      <td>Coffee</td>\n",
       "      <td>&lt; 20 RM</td>\n",
       "      <td>4</td>\n",
       "      <td>3</td>\n",
       "      <td>5</td>\n",
       "      <td>5</td>\n",
       "      <td>4</td>\n",
       "      <td>4</td>\n",
       "      <td>3</td>\n",
       "      <td>Starbucks Website/Apps;Social Media;Emails;Dea...</td>\n",
       "      <td>True</td>\n",
       "    </tr>\n",
       "    <tr>\n",
       "      <th>1</th>\n",
       "      <td>Female</td>\n",
       "      <td>20-29</td>\n",
       "      <td>Student</td>\n",
       "      <td>&lt; 25000 RM</td>\n",
       "      <td>Rarely</td>\n",
       "      <td>Take away</td>\n",
       "      <td>&lt; 30 m</td>\n",
       "      <td>1km - 3km</td>\n",
       "      <td>True</td>\n",
       "      <td>Cold drinks;Pastries</td>\n",
       "      <td>&lt; 20 RM</td>\n",
       "      <td>4</td>\n",
       "      <td>3</td>\n",
       "      <td>4</td>\n",
       "      <td>4</td>\n",
       "      <td>4</td>\n",
       "      <td>5</td>\n",
       "      <td>2</td>\n",
       "      <td>Social Media;In Store displays</td>\n",
       "      <td>True</td>\n",
       "    </tr>\n",
       "    <tr>\n",
       "      <th>2</th>\n",
       "      <td>Male</td>\n",
       "      <td>20-29</td>\n",
       "      <td>Employed</td>\n",
       "      <td>&lt; 25000 RM</td>\n",
       "      <td>Monthly</td>\n",
       "      <td>Dine in</td>\n",
       "      <td>30 m - 1 hr</td>\n",
       "      <td>more than 3km</td>\n",
       "      <td>True</td>\n",
       "      <td>Coffee</td>\n",
       "      <td>&lt; 20 RM</td>\n",
       "      <td>4</td>\n",
       "      <td>3</td>\n",
       "      <td>4</td>\n",
       "      <td>4</td>\n",
       "      <td>4</td>\n",
       "      <td>4</td>\n",
       "      <td>3</td>\n",
       "      <td>In Store displays;Billboards</td>\n",
       "      <td>True</td>\n",
       "    </tr>\n",
       "    <tr>\n",
       "      <th>3</th>\n",
       "      <td>Female</td>\n",
       "      <td>20-29</td>\n",
       "      <td>Student</td>\n",
       "      <td>&lt; 25000 RM</td>\n",
       "      <td>Rarely</td>\n",
       "      <td>Take away</td>\n",
       "      <td>&lt; 30 m</td>\n",
       "      <td>more than 3km</td>\n",
       "      <td>False</td>\n",
       "      <td>Coffee</td>\n",
       "      <td>&lt; 20 RM</td>\n",
       "      <td>2</td>\n",
       "      <td>1</td>\n",
       "      <td>4</td>\n",
       "      <td>3</td>\n",
       "      <td>3</td>\n",
       "      <td>3</td>\n",
       "      <td>3</td>\n",
       "      <td>Through friends and word of mouth</td>\n",
       "      <td>False</td>\n",
       "    </tr>\n",
       "    <tr>\n",
       "      <th>4</th>\n",
       "      <td>Male</td>\n",
       "      <td>20-29</td>\n",
       "      <td>Student</td>\n",
       "      <td>&lt; 25000 RM</td>\n",
       "      <td>Monthly</td>\n",
       "      <td>Take away</td>\n",
       "      <td>30 m - 1 hr</td>\n",
       "      <td>1km - 3km</td>\n",
       "      <td>False</td>\n",
       "      <td>Coffee;Sandwiches</td>\n",
       "      <td>20 - 40 (RM)</td>\n",
       "      <td>3</td>\n",
       "      <td>3</td>\n",
       "      <td>4</td>\n",
       "      <td>2</td>\n",
       "      <td>2</td>\n",
       "      <td>3</td>\n",
       "      <td>3</td>\n",
       "      <td>Starbucks Website/Apps;Social Media</td>\n",
       "      <td>True</td>\n",
       "    </tr>\n",
       "  </tbody>\n",
       "</table>\n",
       "</div>"
      ],
      "text/plain": [
       "   gender    age customer_type annual_income   visits drink_preference  \\\n",
       "0  Female  20-29       Student    < 25000 RM   Rarely          Dine in   \n",
       "1  Female  20-29       Student    < 25000 RM   Rarely        Take away   \n",
       "2    Male  20-29      Employed    < 25000 RM  Monthly          Dine in   \n",
       "3  Female  20-29       Student    < 25000 RM   Rarely        Take away   \n",
       "4    Male  20-29       Student    < 25000 RM  Monthly        Take away   \n",
       "\n",
       "    time_spend nearest_outlet  membership           most_bought  \\\n",
       "0  30 m - 1 hr     within 1km        True                Coffee   \n",
       "1       < 30 m      1km - 3km        True  Cold drinks;Pastries   \n",
       "2  30 m - 1 hr  more than 3km        True                Coffee   \n",
       "3       < 30 m  more than 3km       False                Coffee   \n",
       "4  30 m - 1 hr      1km - 3km       False     Coffee;Sandwiches   \n",
       "\n",
       "  spend_per_visit  quality_rating  price_rating  promotion_rating  \\\n",
       "0         < 20 RM               4             3                 5   \n",
       "1         < 20 RM               4             3                 4   \n",
       "2         < 20 RM               4             3                 4   \n",
       "3         < 20 RM               2             1                 4   \n",
       "4    20 - 40 (RM)               3             3                 4   \n",
       "\n",
       "   ambience_rating  wifi_rating  service_rating  prefer_coffee_house  \\\n",
       "0                5            4               4                    3   \n",
       "1                4            4               5                    2   \n",
       "2                4            4               4                    3   \n",
       "3                3            3               3                    3   \n",
       "4                2            2               3                    3   \n",
       "\n",
       "                                   promotion_updates  loyalty  \n",
       "0  Starbucks Website/Apps;Social Media;Emails;Dea...     True  \n",
       "1                     Social Media;In Store displays     True  \n",
       "2                       In Store displays;Billboards     True  \n",
       "3                  Through friends and word of mouth    False  \n",
       "4                Starbucks Website/Apps;Social Media     True  "
      ]
     },
     "execution_count": 2,
     "metadata": {},
     "output_type": "execute_result"
    }
   ],
   "source": [
    "df = pd.read_csv(\"coffee_house_updated.csv\")\n",
    "df.head()"
   ]
  },
  {
   "cell_type": "code",
   "execution_count": 3,
   "id": "f93bf321",
   "metadata": {},
   "outputs": [
    {
     "data": {
      "text/plain": [
       "['gender',\n",
       " 'age',\n",
       " 'customer_type',\n",
       " 'annual_income',\n",
       " 'visits',\n",
       " 'drink_preference',\n",
       " 'time_spend',\n",
       " 'nearest_outlet',\n",
       " 'membership',\n",
       " 'most_bought',\n",
       " 'spend_per_visit',\n",
       " 'promotion_updates',\n",
       " 'loyalty']"
      ]
     },
     "execution_count": 3,
     "metadata": {},
     "output_type": "execute_result"
    }
   ],
   "source": [
    "categorical_columns = list(df.select_dtypes(exclude=np.number).columns)\n",
    "categorical_columns"
   ]
  },
  {
   "cell_type": "code",
   "execution_count": 4,
   "id": "54e51c8f",
   "metadata": {},
   "outputs": [],
   "source": [
    "from sklearn.preprocessing import OrdinalEncoder\n",
    "encoder = OrdinalEncoder()\n",
    "df[categorical_columns] = encoder.fit_transform(df[categorical_columns])"
   ]
  },
  {
   "cell_type": "code",
   "execution_count": 5,
   "id": "99b0f528",
   "metadata": {},
   "outputs": [
    {
     "data": {
      "text/html": [
       "<div>\n",
       "<style scoped>\n",
       "    .dataframe tbody tr th:only-of-type {\n",
       "        vertical-align: middle;\n",
       "    }\n",
       "\n",
       "    .dataframe tbody tr th {\n",
       "        vertical-align: top;\n",
       "    }\n",
       "\n",
       "    .dataframe thead th {\n",
       "        text-align: right;\n",
       "    }\n",
       "</style>\n",
       "<table border=\"1\" class=\"dataframe\">\n",
       "  <thead>\n",
       "    <tr style=\"text-align: right;\">\n",
       "      <th></th>\n",
       "      <th>gender</th>\n",
       "      <th>age</th>\n",
       "      <th>customer_type</th>\n",
       "      <th>annual_income</th>\n",
       "      <th>visits</th>\n",
       "      <th>drink_preference</th>\n",
       "      <th>time_spend</th>\n",
       "      <th>nearest_outlet</th>\n",
       "      <th>membership</th>\n",
       "      <th>most_bought</th>\n",
       "      <th>spend_per_visit</th>\n",
       "      <th>quality_rating</th>\n",
       "      <th>price_rating</th>\n",
       "      <th>promotion_rating</th>\n",
       "      <th>ambience_rating</th>\n",
       "      <th>wifi_rating</th>\n",
       "      <th>service_rating</th>\n",
       "      <th>prefer_coffee_house</th>\n",
       "      <th>promotion_updates</th>\n",
       "      <th>loyalty</th>\n",
       "    </tr>\n",
       "  </thead>\n",
       "  <tbody>\n",
       "    <tr>\n",
       "      <th>0</th>\n",
       "      <td>0.0</td>\n",
       "      <td>0.0</td>\n",
       "      <td>3.0</td>\n",
       "      <td>3.0</td>\n",
       "      <td>3.0</td>\n",
       "      <td>0.0</td>\n",
       "      <td>2.0</td>\n",
       "      <td>2.0</td>\n",
       "      <td>1.0</td>\n",
       "      <td>0.0</td>\n",
       "      <td>2.0</td>\n",
       "      <td>4</td>\n",
       "      <td>3</td>\n",
       "      <td>5</td>\n",
       "      <td>5</td>\n",
       "      <td>4</td>\n",
       "      <td>4</td>\n",
       "      <td>3</td>\n",
       "      <td>24.0</td>\n",
       "      <td>1.0</td>\n",
       "    </tr>\n",
       "    <tr>\n",
       "      <th>1</th>\n",
       "      <td>0.0</td>\n",
       "      <td>0.0</td>\n",
       "      <td>3.0</td>\n",
       "      <td>3.0</td>\n",
       "      <td>3.0</td>\n",
       "      <td>2.0</td>\n",
       "      <td>3.0</td>\n",
       "      <td>0.0</td>\n",
       "      <td>1.0</td>\n",
       "      <td>11.0</td>\n",
       "      <td>2.0</td>\n",
       "      <td>4</td>\n",
       "      <td>3</td>\n",
       "      <td>4</td>\n",
       "      <td>4</td>\n",
       "      <td>4</td>\n",
       "      <td>5</td>\n",
       "      <td>2</td>\n",
       "      <td>12.0</td>\n",
       "      <td>1.0</td>\n",
       "    </tr>\n",
       "    <tr>\n",
       "      <th>2</th>\n",
       "      <td>1.0</td>\n",
       "      <td>0.0</td>\n",
       "      <td>0.0</td>\n",
       "      <td>3.0</td>\n",
       "      <td>1.0</td>\n",
       "      <td>0.0</td>\n",
       "      <td>2.0</td>\n",
       "      <td>1.0</td>\n",
       "      <td>1.0</td>\n",
       "      <td>0.0</td>\n",
       "      <td>2.0</td>\n",
       "      <td>4</td>\n",
       "      <td>3</td>\n",
       "      <td>4</td>\n",
       "      <td>4</td>\n",
       "      <td>4</td>\n",
       "      <td>4</td>\n",
       "      <td>3</td>\n",
       "      <td>4.0</td>\n",
       "      <td>1.0</td>\n",
       "    </tr>\n",
       "    <tr>\n",
       "      <th>3</th>\n",
       "      <td>0.0</td>\n",
       "      <td>0.0</td>\n",
       "      <td>3.0</td>\n",
       "      <td>3.0</td>\n",
       "      <td>3.0</td>\n",
       "      <td>2.0</td>\n",
       "      <td>3.0</td>\n",
       "      <td>1.0</td>\n",
       "      <td>0.0</td>\n",
       "      <td>0.0</td>\n",
       "      <td>2.0</td>\n",
       "      <td>2</td>\n",
       "      <td>1</td>\n",
       "      <td>4</td>\n",
       "      <td>3</td>\n",
       "      <td>3</td>\n",
       "      <td>3</td>\n",
       "      <td>3</td>\n",
       "      <td>29.0</td>\n",
       "      <td>0.0</td>\n",
       "    </tr>\n",
       "    <tr>\n",
       "      <th>4</th>\n",
       "      <td>1.0</td>\n",
       "      <td>0.0</td>\n",
       "      <td>3.0</td>\n",
       "      <td>3.0</td>\n",
       "      <td>1.0</td>\n",
       "      <td>2.0</td>\n",
       "      <td>2.0</td>\n",
       "      <td>0.0</td>\n",
       "      <td>0.0</td>\n",
       "      <td>7.0</td>\n",
       "      <td>1.0</td>\n",
       "      <td>3</td>\n",
       "      <td>3</td>\n",
       "      <td>4</td>\n",
       "      <td>2</td>\n",
       "      <td>2</td>\n",
       "      <td>3</td>\n",
       "      <td>3</td>\n",
       "      <td>21.0</td>\n",
       "      <td>1.0</td>\n",
       "    </tr>\n",
       "  </tbody>\n",
       "</table>\n",
       "</div>"
      ],
      "text/plain": [
       "   gender  age  customer_type  annual_income  visits  drink_preference  \\\n",
       "0     0.0  0.0            3.0            3.0     3.0               0.0   \n",
       "1     0.0  0.0            3.0            3.0     3.0               2.0   \n",
       "2     1.0  0.0            0.0            3.0     1.0               0.0   \n",
       "3     0.0  0.0            3.0            3.0     3.0               2.0   \n",
       "4     1.0  0.0            3.0            3.0     1.0               2.0   \n",
       "\n",
       "   time_spend  nearest_outlet  membership  most_bought  spend_per_visit  \\\n",
       "0         2.0             2.0         1.0          0.0              2.0   \n",
       "1         3.0             0.0         1.0         11.0              2.0   \n",
       "2         2.0             1.0         1.0          0.0              2.0   \n",
       "3         3.0             1.0         0.0          0.0              2.0   \n",
       "4         2.0             0.0         0.0          7.0              1.0   \n",
       "\n",
       "   quality_rating  price_rating  promotion_rating  ambience_rating  \\\n",
       "0               4             3                 5                5   \n",
       "1               4             3                 4                4   \n",
       "2               4             3                 4                4   \n",
       "3               2             1                 4                3   \n",
       "4               3             3                 4                2   \n",
       "\n",
       "   wifi_rating  service_rating  prefer_coffee_house  promotion_updates  \\\n",
       "0            4               4                    3               24.0   \n",
       "1            4               5                    2               12.0   \n",
       "2            4               4                    3                4.0   \n",
       "3            3               3                    3               29.0   \n",
       "4            2               3                    3               21.0   \n",
       "\n",
       "   loyalty  \n",
       "0      1.0  \n",
       "1      1.0  \n",
       "2      1.0  \n",
       "3      0.0  \n",
       "4      1.0  "
      ]
     },
     "execution_count": 5,
     "metadata": {},
     "output_type": "execute_result"
    }
   ],
   "source": [
    "df.head()"
   ]
  },
  {
   "cell_type": "code",
   "execution_count": 6,
   "id": "54b6b64e",
   "metadata": {},
   "outputs": [
    {
     "name": "stdout",
     "output_type": "stream",
     "text": [
      "Independent Feature Set Shape :  (122, 19)\n",
      "Dependent Feature Set Shape   :  (122, 1)\n"
     ]
    }
   ],
   "source": [
    "X = df.drop('loyalty', axis =1)\n",
    "Y = df[['loyalty']]\n",
    "\n",
    "print('Independent Feature Set Shape : ', X.shape)\n",
    "print('Dependent Feature Set Shape   : ', Y.shape)"
   ]
  },
  {
   "cell_type": "code",
   "execution_count": 7,
   "id": "bd537db2",
   "metadata": {
    "scrolled": true
   },
   "outputs": [
    {
     "data": {
      "text/plain": [
       "loyalty\n",
       "1.0        77.04918\n",
       "0.0        22.95082\n",
       "dtype: float64"
      ]
     },
     "execution_count": 7,
     "metadata": {},
     "output_type": "execute_result"
    }
   ],
   "source": [
    "Y.value_counts(normalize=True)*100"
   ]
  },
  {
   "cell_type": "markdown",
   "id": "fd7100d5",
   "metadata": {},
   "source": [
    "### There is a huge imbalance in data in the dependent column where 77% of data belongs to majority class (1) and around 23% belongs to minority class (0). Here we handle the imbalanced data by oversampling the minority class using SMOTE\n",
    "### ======================================================================================="
   ]
  },
  {
   "cell_type": "code",
   "execution_count": 8,
   "id": "5e21f688",
   "metadata": {},
   "outputs": [
    {
     "name": "stdout",
     "output_type": "stream",
     "text": [
      "Data   :  (188, 19)\n",
      "Labels :  (188, 1)\n"
     ]
    }
   ],
   "source": [
    "from imblearn.over_sampling import SMOTE\n",
    "smote_sampler = SMOTE()\n",
    "x_sampled, y_sampled = smote_sampler.fit_resample(X, Y)\n",
    "\n",
    "print('Data   : ', x_sampled.shape)\n",
    "print('Labels : ', y_sampled.shape)"
   ]
  },
  {
   "cell_type": "code",
   "execution_count": 9,
   "id": "01c7fc25",
   "metadata": {
    "scrolled": true
   },
   "outputs": [
    {
     "name": "stdout",
     "output_type": "stream",
     "text": [
      "Training Data Shape   :  (150, 19)\n",
      "Training Labels Shape :  (150, 1)\n",
      "Testing Data Shape    :  (38, 19)\n",
      "Testing Labels Shape  :  (38, 1)\n"
     ]
    }
   ],
   "source": [
    "from sklearn.model_selection import train_test_split\n",
    "x_train, x_test, y_train, y_test = train_test_split(x_sampled, y_sampled, test_size = 0.2, random_state = 42)\n",
    "\n",
    "print('Training Data Shape   : ', x_train.shape)\n",
    "print('Training Labels Shape : ', y_train.shape)\n",
    "print('Testing Data Shape    : ', x_test.shape)\n",
    "print('Testing Labels Shape  : ', y_test.shape)"
   ]
  },
  {
   "cell_type": "markdown",
   "id": "dad09b0a",
   "metadata": {},
   "source": [
    "### Using KNN Algorithm"
   ]
  },
  {
   "cell_type": "code",
   "execution_count": 24,
   "id": "f61d68ea",
   "metadata": {},
   "outputs": [
    {
     "data": {
      "text/plain": [
       "KNeighborsClassifier(n_neighbors=3)"
      ]
     },
     "execution_count": 24,
     "metadata": {},
     "output_type": "execute_result"
    }
   ],
   "source": [
    "from sklearn.neighbors import KNeighborsClassifier\n",
    "classifier = KNeighborsClassifier(n_neighbors = 3, metric = 'minkowski', p =2)\n",
    "classifier.fit(x_train, y_train)"
   ]
  },
  {
   "cell_type": "code",
   "execution_count": 25,
   "id": "cb653e2c",
   "metadata": {},
   "outputs": [
    {
     "name": "stdout",
     "output_type": "stream",
     "text": [
      "Training Set Accuracy :  0.9066666666666666\n",
      "Testing Set Accuracy  :  0.8947368421052632\n"
     ]
    }
   ],
   "source": [
    "from sklearn.metrics import accuracy_score\n",
    "pred_train = classifier.predict(x_train)\n",
    "y_pred  = classifier.predict(x_test)\n",
    "\n",
    "print('Training Set Accuracy : ', accuracy_score(y_train, pred_train))\n",
    "print('Testing Set Accuracy  : ', accuracy_score(y_test,y_pred))"
   ]
  },
  {
   "cell_type": "code",
   "execution_count": 12,
   "id": "657d60c0",
   "metadata": {
    "scrolled": true
   },
   "outputs": [
    {
     "data": {
      "text/plain": [
       "array([[20,  1],\n",
       "       [ 2, 15]], dtype=int64)"
      ]
     },
     "execution_count": 12,
     "metadata": {},
     "output_type": "execute_result"
    }
   ],
   "source": [
    "from sklearn.metrics import confusion_matrix  \n",
    "cm= confusion_matrix(y_test, y_pred)  \n",
    "cm"
   ]
  },
  {
   "cell_type": "markdown",
   "id": "fd6e5855",
   "metadata": {},
   "source": [
    "- The KNN algorithm, with the chosen configuration or hyperparameters, achieved a good accuracy of around 90% on both the \n",
    "  training and testing sets. \n",
    "- Out of the 38 predictions, 35 were predicted correct and only 3 predictions were wrong.\n",
    "### ======================================================================================"
   ]
  },
  {
   "cell_type": "markdown",
   "id": "def05fb8",
   "metadata": {},
   "source": [
    "### Using RandomForest Algorithm"
   ]
  },
  {
   "cell_type": "code",
   "execution_count": 26,
   "id": "6f5319ac",
   "metadata": {},
   "outputs": [
    {
     "data": {
      "text/plain": [
       "RandomForestClassifier(max_depth=3, n_estimators=20, random_state=17)"
      ]
     },
     "execution_count": 26,
     "metadata": {},
     "output_type": "execute_result"
    }
   ],
   "source": [
    "from sklearn.ensemble import RandomForestClassifier\n",
    "classifier = RandomForestClassifier(n_estimators = 20, max_depth =3,random_state = 17)\n",
    "classifier.fit(x_train,y_train)"
   ]
  },
  {
   "cell_type": "code",
   "execution_count": 27,
   "id": "8bcc8785",
   "metadata": {},
   "outputs": [
    {
     "name": "stdout",
     "output_type": "stream",
     "text": [
      "Training Set Accuracy :  0.9266666666666666\n",
      "Testing Set Accuracy  :  0.8947368421052632\n"
     ]
    }
   ],
   "source": [
    "pred_train = classifier.predict(x_train)\n",
    "y_pred  = classifier.predict(x_test)\n",
    "\n",
    "print('Training Set Accuracy : ', accuracy_score(y_train, pred_train))\n",
    "print('Testing Set Accuracy  : ', accuracy_score(y_test, y_pred))"
   ]
  },
  {
   "cell_type": "code",
   "execution_count": 15,
   "id": "4e9b8ccb",
   "metadata": {
    "scrolled": true
   },
   "outputs": [
    {
     "data": {
      "text/plain": [
       "array([[17,  4],\n",
       "       [ 2, 15]], dtype=int64)"
      ]
     },
     "execution_count": 15,
     "metadata": {},
     "output_type": "execute_result"
    }
   ],
   "source": [
    "cm= confusion_matrix(y_test, y_pred)  \n",
    "cm"
   ]
  },
  {
   "cell_type": "markdown",
   "id": "ead65811",
   "metadata": {},
   "source": [
    "- The RandomForest algorithm also achieved a good accuracy of around 93% on training set and 90% on\n",
    "  testing sets. \n",
    "- Out of the 38 predictions 32 were predicted correct and 6 predictions were wrong.\n",
    "### ======================================================================================"
   ]
  },
  {
   "cell_type": "code",
   "execution_count": 28,
   "id": "70b6dc86",
   "metadata": {},
   "outputs": [
    {
     "data": {
      "text/plain": [
       "array([0.00311586, 0.03924944, 0.00537692, 0.01150933, 0.03222452,\n",
       "       0.00537061, 0.        , 0.0248422 , 0.06085386, 0.02967835,\n",
       "       0.11222241, 0.13669654, 0.29298739, 0.00205845, 0.02817259,\n",
       "       0.02102168, 0.02903988, 0.10590988, 0.05967008])"
      ]
     },
     "execution_count": 28,
     "metadata": {},
     "output_type": "execute_result"
    }
   ],
   "source": [
    "feature_importances = classifier.feature_importances_\n",
    "feature_importances"
   ]
  },
  {
   "cell_type": "code",
   "execution_count": 29,
   "id": "18e61b43",
   "metadata": {
    "scrolled": false
   },
   "outputs": [
    {
     "data": {
      "text/html": [
       "<div>\n",
       "<style scoped>\n",
       "    .dataframe tbody tr th:only-of-type {\n",
       "        vertical-align: middle;\n",
       "    }\n",
       "\n",
       "    .dataframe tbody tr th {\n",
       "        vertical-align: top;\n",
       "    }\n",
       "\n",
       "    .dataframe thead th {\n",
       "        text-align: right;\n",
       "    }\n",
       "</style>\n",
       "<table border=\"1\" class=\"dataframe\">\n",
       "  <thead>\n",
       "    <tr style=\"text-align: right;\">\n",
       "      <th></th>\n",
       "      <th>Feature</th>\n",
       "      <th>Importance</th>\n",
       "    </tr>\n",
       "  </thead>\n",
       "  <tbody>\n",
       "    <tr>\n",
       "      <th>12</th>\n",
       "      <td>price_rating</td>\n",
       "      <td>0.292987</td>\n",
       "    </tr>\n",
       "    <tr>\n",
       "      <th>11</th>\n",
       "      <td>quality_rating</td>\n",
       "      <td>0.136697</td>\n",
       "    </tr>\n",
       "    <tr>\n",
       "      <th>10</th>\n",
       "      <td>spend_per_visit</td>\n",
       "      <td>0.112222</td>\n",
       "    </tr>\n",
       "    <tr>\n",
       "      <th>17</th>\n",
       "      <td>prefer_coffee_house</td>\n",
       "      <td>0.105910</td>\n",
       "    </tr>\n",
       "    <tr>\n",
       "      <th>8</th>\n",
       "      <td>membership</td>\n",
       "      <td>0.060854</td>\n",
       "    </tr>\n",
       "    <tr>\n",
       "      <th>18</th>\n",
       "      <td>promotion_updates</td>\n",
       "      <td>0.059670</td>\n",
       "    </tr>\n",
       "    <tr>\n",
       "      <th>1</th>\n",
       "      <td>age</td>\n",
       "      <td>0.039249</td>\n",
       "    </tr>\n",
       "    <tr>\n",
       "      <th>4</th>\n",
       "      <td>visits</td>\n",
       "      <td>0.032225</td>\n",
       "    </tr>\n",
       "    <tr>\n",
       "      <th>9</th>\n",
       "      <td>most_bought</td>\n",
       "      <td>0.029678</td>\n",
       "    </tr>\n",
       "    <tr>\n",
       "      <th>16</th>\n",
       "      <td>service_rating</td>\n",
       "      <td>0.029040</td>\n",
       "    </tr>\n",
       "    <tr>\n",
       "      <th>14</th>\n",
       "      <td>ambience_rating</td>\n",
       "      <td>0.028173</td>\n",
       "    </tr>\n",
       "    <tr>\n",
       "      <th>7</th>\n",
       "      <td>nearest_outlet</td>\n",
       "      <td>0.024842</td>\n",
       "    </tr>\n",
       "    <tr>\n",
       "      <th>15</th>\n",
       "      <td>wifi_rating</td>\n",
       "      <td>0.021022</td>\n",
       "    </tr>\n",
       "    <tr>\n",
       "      <th>3</th>\n",
       "      <td>annual_income</td>\n",
       "      <td>0.011509</td>\n",
       "    </tr>\n",
       "    <tr>\n",
       "      <th>2</th>\n",
       "      <td>customer_type</td>\n",
       "      <td>0.005377</td>\n",
       "    </tr>\n",
       "    <tr>\n",
       "      <th>5</th>\n",
       "      <td>drink_preference</td>\n",
       "      <td>0.005371</td>\n",
       "    </tr>\n",
       "    <tr>\n",
       "      <th>0</th>\n",
       "      <td>gender</td>\n",
       "      <td>0.003116</td>\n",
       "    </tr>\n",
       "    <tr>\n",
       "      <th>13</th>\n",
       "      <td>promotion_rating</td>\n",
       "      <td>0.002058</td>\n",
       "    </tr>\n",
       "    <tr>\n",
       "      <th>6</th>\n",
       "      <td>time_spend</td>\n",
       "      <td>0.000000</td>\n",
       "    </tr>\n",
       "  </tbody>\n",
       "</table>\n",
       "</div>"
      ],
      "text/plain": [
       "                Feature  Importance\n",
       "12         price_rating    0.292987\n",
       "11       quality_rating    0.136697\n",
       "10      spend_per_visit    0.112222\n",
       "17  prefer_coffee_house    0.105910\n",
       "8            membership    0.060854\n",
       "18    promotion_updates    0.059670\n",
       "1                   age    0.039249\n",
       "4                visits    0.032225\n",
       "9           most_bought    0.029678\n",
       "16       service_rating    0.029040\n",
       "14      ambience_rating    0.028173\n",
       "7        nearest_outlet    0.024842\n",
       "15          wifi_rating    0.021022\n",
       "3         annual_income    0.011509\n",
       "2         customer_type    0.005377\n",
       "5      drink_preference    0.005371\n",
       "0                gender    0.003116\n",
       "13     promotion_rating    0.002058\n",
       "6            time_spend    0.000000"
      ]
     },
     "execution_count": 29,
     "metadata": {},
     "output_type": "execute_result"
    }
   ],
   "source": [
    "feature_importance_df = pd.DataFrame({'Feature': X.columns, 'Importance': feature_importances})\n",
    "feature_importance_df = feature_importance_df.sort_values(by='Importance', ascending=False)\n",
    "feature_importance_df"
   ]
  },
  {
   "cell_type": "code",
   "execution_count": 30,
   "id": "34b98836",
   "metadata": {
    "scrolled": false
   },
   "outputs": [
    {
     "data": {
      "image/png": "[encoded data removed]",
      "text/plain": [
       "<Figure size 800x600 with 1 Axes>"
      ]
     },
     "metadata": {},
     "output_type": "display_data"
    }
   ],
   "source": [
    "plt.figure(figsize=(8, 6))\n",
    "plt.barh(feature_importance_df['Feature'], feature_importance_df['Importance'], color='skyblue')\n",
    "plt.xlabel('Importance')\n",
    "plt.title('Feature Importances')\n",
    "plt.show()"
   ]
  },
  {
   "cell_type": "markdown",
   "id": "61168c34",
   "metadata": {},
   "source": [
    "### 'price_rating' features have a more significant impact on the model's predictions with a contribution of around 29%, which means that the price of the products has a greatest impact on the retention rates."
   ]
  },
  {
   "cell_type": "code",
   "execution_count": null,
   "id": "b5290de5",
   "metadata": {},
   "outputs": [],
   "source": []
  }
 ],
 "metadata": {
  "kernelspec": {
   "display_name": "Python 3 (ipykernel)",
   "language": "python",
   "name": "python3"
  },
  "language_info": {
   "codemirror_mode": {
    "name": "ipython",
    "version": 3
   },
   "file_extension": ".py",
   "mimetype": "text/x-python",
   "name": "python",
   "nbconvert_exporter": "python",
   "pygments_lexer": "ipython3",
   "version": "3.9.13"
  }
 },
 "nbformat": 4,
 "nbformat_minor": 5
}
